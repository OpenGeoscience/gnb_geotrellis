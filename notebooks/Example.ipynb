{
 "cells": [
  {
   "cell_type": "code",
   "execution_count": null,
   "metadata": {
    "collapsed": false
   },
   "outputs": [],
   "source": [
    "%matplotlib inline\n",
    "from matplotlib import pyplot as plt"
   ]
  },
  {
   "cell_type": "markdown",
   "metadata": {},
   "source": [
    "# Visualize US Data"
   ]
  },
  {
   "cell_type": "code",
   "execution_count": null,
   "metadata": {
    "collapsed": false
   },
   "outputs": [],
   "source": [
    "from geonotebook.wrappers import RasterData"
   ]
  },
  {
   "cell_type": "code",
   "execution_count": null,
   "metadata": {
    "collapsed": false
   },
   "outputs": [],
   "source": [
    "rd = RasterData(\"geotrellis://http://localhost:8899/tiles/weld11\")"
   ]
  },
  {
   "cell_type": "code",
   "execution_count": null,
   "metadata": {
    "collapsed": false
   },
   "outputs": [],
   "source": [
    "M.add_layer(rd)"
   ]
  },
  {
   "cell_type": "markdown",
   "metadata": {
    "collapsed": true
   },
   "source": [
    "# Subset with a rectangle"
   ]
  },
  {
   "cell_type": "code",
   "execution_count": null,
   "metadata": {
    "collapsed": false
   },
   "outputs": [],
   "source": [
    "import findspark\n",
    "findspark.init()\n",
    "\n",
    "from pyspark import SparkContext, SparkConf\n",
    "from pyproj import Proj, transform\n",
    "from shapely.geometry import Polygon\n",
    "from geopyspark.geotrellis.catalog import S3Catalog\n",
    "from geopyspark.geopycontext import GeoPyContext\n",
    "from geopyspark.avroregistry import AvroRegistry\n"
   ]
  },
  {
   "cell_type": "code",
   "execution_count": null,
   "metadata": {
    "collapsed": true
   },
   "outputs": [],
   "source": [
    "def latLongToWebMercator(lat_long_coords):\n",
    "    in_proj  = Proj(\"+init=EPSG:4326\")\n",
    "    out_proj = Proj(\"+init=EPSG:3857\")\n",
    "    return [transform(in_proj, out_proj, x, y) for (x, y) in lat_long_coords]\n",
    "\n",
    "def webMercatorToLatLong(web_merc_coords):\n",
    "    out_proj  = Proj(\"+init=EPSG:4326\")\n",
    "    in_proj = Proj(\"+init=EPSG:3857\")\n",
    "    return [transform(in_proj, out_proj, x, y) for (x, y) in web_merc_coords]    \n"
   ]
  },
  {
   "cell_type": "code",
   "execution_count": null,
   "metadata": {
    "collapsed": false
   },
   "outputs": [],
   "source": [
    "# If sparkcontext already exists use it\n",
    "try:\n",
    "    geopysc = GeoPyContext(master='local[*]', appName='data_frame_test')\n",
    "except ValueError:\n",
    "    pass\n",
    "\n",
    "catalog = S3Catalog(geopysc)\n"
   ]
  },
  {
   "cell_type": "code",
   "execution_count": null,
   "metadata": {
    "collapsed": false
   },
   "outputs": [],
   "source": [
    "polygon = Polygon(\n",
    "    latLongToWebMercator(list(M.layers.annotation.rectangles[0].exterior.coords)))\n",
    "print(latLongToWebMercator(list(M.layers.annotation.rectangles[0].exterior.coords)))"
   ]
  },
  {
   "cell_type": "code",
   "execution_count": null,
   "metadata": {
    "collapsed": false
   },
   "outputs": [],
   "source": [
    "key_type = 'spatial'\n",
    "value_type = 'singleband'\n",
    "bucket = \"kitware-catalog\"\n",
    "prefix = 'full-catalog'\n",
    "layer_name = 'weld11'\n",
    "layer_zoom = 13\n",
    "\n",
    "(rdd, schema, metadata) = catalog.query(key_type, value_type, bucket, \n",
    "                                prefix, layer_name, layer_zoom, polygon)\n",
    "print(metadata)"
   ]
  },
  {
   "cell_type": "code",
   "execution_count": null,
   "metadata": {
    "collapsed": false
   },
   "outputs": [],
   "source": [
    "ta = rdd.collect()"
   ]
  },
  {
   "cell_type": "code",
   "execution_count": null,
   "metadata": {
    "collapsed": false
   },
   "outputs": [],
   "source": [
    "# Get extent of rdd in lat long\n",
    "extent = metadata['extent']\n",
    "rdd_extent = webMercatorToLatLong([(extent['xmin'],\n",
    "                                   extent['ymin']), \n",
    "                                   (extent['xmax'],\n",
    "                                   extent['ymax'])])\n"
   ]
  },
  {
   "cell_type": "markdown",
   "metadata": {},
   "source": [
    "# Investigate"
   ]
  },
  {
   "cell_type": "code",
   "execution_count": null,
   "metadata": {
    "collapsed": false
   },
   "outputs": [],
   "source": [
    "def stitch_tilearrays(ta):\n",
    "    arr = None\n",
    "    c_arr = None\n",
    "    prev_col = None\n",
    "\n",
    "    for key, _ta in sorted(ta, key=lambda x: (x[0].col, x[0].row)):\n",
    "        # Build up the column\n",
    "        if prev_col == None:\n",
    "            c_arr = _ta\n",
    "        elif prev_col == key.col:\n",
    "            c_arr = np.vstack([c_arr, _ta])\n",
    "        # We've finished with the column,  add it\n",
    "        # to the array\n",
    "        else:\n",
    "            if arr is None:\n",
    "                arr = c_arr\n",
    "            else:\n",
    "                arr = np.hstack([arr, c_arr])\n",
    "\n",
    "            c_arr = _ta\n",
    "        prev_col = key.col\n",
    "\n",
    "    return np.hstack([arr, c_arr])\n"
   ]
  },
  {
   "cell_type": "code",
   "execution_count": null,
   "metadata": {
    "collapsed": false
   },
   "outputs": [],
   "source": [
    "plt.imshow(stitch_tilearrays(ta))"
   ]
  },
  {
   "cell_type": "code",
   "execution_count": null,
   "metadata": {
    "collapsed": true
   },
   "outputs": [],
   "source": []
  }
 ],
 "metadata": {
  "kernelspec": {
   "display_name": "Geonotebook (Python 3)",
   "language": "python",
   "name": "geonotebook3"
  },
  "language_info": {
   "codemirror_mode": {
    "name": "ipython",
    "version": 3
   },
   "file_extension": ".py",
   "mimetype": "text/x-python",
   "name": "python",
   "nbconvert_exporter": "python",
   "pygments_lexer": "ipython3",
   "version": "3.5.2"
  }
 },
 "nbformat": 4,
 "nbformat_minor": 2
}
