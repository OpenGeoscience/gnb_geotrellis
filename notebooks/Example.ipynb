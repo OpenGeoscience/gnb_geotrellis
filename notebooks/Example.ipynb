{
 "cells": [
  {
   "cell_type": "code",
   "execution_count": null,
   "metadata": {
    "collapsed": false
   },
   "outputs": [],
   "source": [
    "%matplotlib inline\n",
    "from matplotlib import pyplot as plt\n",
    "import numpy as np"
   ]
  },
  {
   "cell_type": "markdown",
   "metadata": {},
   "source": [
    "# Visualize US Data"
   ]
  },
  {
   "cell_type": "code",
   "execution_count": null,
   "metadata": {
    "collapsed": false
   },
   "outputs": [],
   "source": [
    "from geonotebook.wrappers import RasterData"
   ]
  },
  {
   "cell_type": "code",
   "execution_count": null,
   "metadata": {
    "collapsed": false
   },
   "outputs": [],
   "source": [
    "rd = RasterData(\"geotrellis://http://localhost:8899/tiles/weld11\")"
   ]
  },
  {
   "cell_type": "code",
   "execution_count": null,
   "metadata": {
    "collapsed": false
   },
   "outputs": [],
   "source": [
    "M.add_layer(rd)"
   ]
  },
  {
   "cell_type": "markdown",
   "metadata": {
    "collapsed": true
   },
   "source": [
    "# Subset with a rectangle"
   ]
  },
  {
   "cell_type": "code",
   "execution_count": null,
   "metadata": {
    "collapsed": false
   },
   "outputs": [],
   "source": [
    "import findspark\n",
    "findspark.init()\n",
    "\n",
    "from pyspark import SparkContext, SparkConf\n",
    "from pyproj import Proj, transform\n",
    "from shapely import geometry\n",
    "from geopyspark.geotrellis.catalog import S3Catalog\n",
    "from geopyspark.geopycontext import GeoPyContext\n",
    "from geopyspark.avroregistry import AvroRegistry\n",
    "import rasterio\n",
    "\n",
    "from gnb_geotrellis.globalmaptiles import get_extent"
   ]
  },
  {
   "cell_type": "code",
   "execution_count": null,
   "metadata": {
    "collapsed": true
   },
   "outputs": [],
   "source": [
    "def latLongToWebMercator(lat_long_coords):\n",
    "    in_proj  = Proj(\"+init=EPSG:4326\")\n",
    "    out_proj = Proj(\"+init=EPSG:3857\")\n",
    "    return [transform(in_proj, out_proj, x, y) for (x, y) in lat_long_coords]"
   ]
  },
  {
   "cell_type": "code",
   "execution_count": null,
   "metadata": {
    "collapsed": false
   },
   "outputs": [],
   "source": [
    "# If sparkcontext already exists use it\n",
    "try:\n",
    "    geopysc = GeoPyContext(master='local[*]', appName='data_frame_test')\n",
    "except ValueError:\n",
    "    pass\n",
    "\n",
    "catalog = S3Catalog(geopysc)\n"
   ]
  },
  {
   "cell_type": "code",
   "execution_count": null,
   "metadata": {
    "collapsed": true
   },
   "outputs": [],
   "source": [
    "from rasterio.transform import Affine\n",
    "\n",
    "def transform_from_corner(ulx, uly, dx, dy):\n",
    "    return Affine.translation(ulx, uly)*Affine.scale(dx, -dy)\n"
   ]
  },
  {
   "cell_type": "markdown",
   "metadata": {},
   "source": [
    "# Get Total RDD Extent"
   ]
  },
  {
   "cell_type": "code",
   "execution_count": null,
   "metadata": {
    "collapsed": false
   },
   "outputs": [],
   "source": [
    "annot = M.layers.annotation.rectangles[0]\n",
    "extent = get_extent(13, annot)\n",
    "rdd_polygon = geometry.box(*extent)\n",
    "geojson = geometry.geo.mapping(rdd_polygon)"
   ]
  },
  {
   "cell_type": "code",
   "execution_count": null,
   "metadata": {
    "collapsed": false
   },
   "outputs": [],
   "source": [
    "key_type = 'spatial'\n",
    "value_type = 'singleband'\n",
    "bucket = \"kitware-catalog\"\n",
    "prefix = 'full-catalog'\n",
    "layer_name = 'weld11'\n",
    "layer_zoom = 13\n",
    "polygon = geometry.Polygon(\n",
    "    latLongToWebMercator(list(annot.exterior.coords)))\n",
    "\n",
    "(rdd, schema, metadata) = catalog.query(key_type, value_type, bucket, \n",
    "                                prefix, layer_name, layer_zoom, polygon)"
   ]
  },
  {
   "cell_type": "code",
   "execution_count": null,
   "metadata": {
    "collapsed": false
   },
   "outputs": [],
   "source": [
    "ta = rdd.collect()"
   ]
  },
  {
   "cell_type": "markdown",
   "metadata": {},
   "source": [
    "# Investigate"
   ]
  },
  {
   "cell_type": "code",
   "execution_count": null,
   "metadata": {
    "collapsed": false
   },
   "outputs": [],
   "source": [
    "def stitch_tilearrays(ta):\n",
    "    arr = None\n",
    "    c_arr = None\n",
    "    prev_col = None\n",
    "\n",
    "    for key, _ta in sorted(ta, key=lambda x: (x[0]['col'], x[0]['row'])):\n",
    "        # Build up the column\n",
    "        if prev_col == None:\n",
    "            c_arr = _ta['data']\n",
    "        elif prev_col == key['col']:\n",
    "            c_arr = np.vstack([c_arr, _ta['data']])\n",
    "        # We've finished with the column,  add it\n",
    "        # to the array\n",
    "        else:\n",
    "            if arr is None:\n",
    "                arr = c_arr\n",
    "            else:\n",
    "                arr = np.hstack([arr, c_arr])\n",
    "\n",
    "            c_arr = _ta['data']\n",
    "        prev_col = key['col']\n",
    "\n",
    "    return np.hstack([arr, c_arr])"
   ]
  },
  {
   "cell_type": "code",
   "execution_count": null,
   "metadata": {
    "collapsed": false
   },
   "outputs": [],
   "source": [
    "tilearray = stitch_tilearrays(ta)\n",
    "print(tilearray.shape)\n",
    "plt.imshow(tilearray)"
   ]
  },
  {
   "cell_type": "code",
   "execution_count": null,
   "metadata": {
    "collapsed": true
   },
   "outputs": [],
   "source": []
  }
 ],
 "metadata": {
  "kernelspec": {
   "display_name": "Geonotebook (Python 3)",
   "language": "python",
   "name": "geonotebook3"
  },
  "language_info": {
   "codemirror_mode": {
    "name": "ipython",
    "version": 3
   },
   "file_extension": ".py",
   "mimetype": "text/x-python",
   "name": "python",
   "nbconvert_exporter": "python",
   "pygments_lexer": "ipython3",
   "version": "3.5.2"
  }
 },
 "nbformat": 4,
 "nbformat_minor": 2
}
